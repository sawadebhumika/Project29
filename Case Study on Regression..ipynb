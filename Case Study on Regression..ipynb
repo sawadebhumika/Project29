{
 "cells": [
  {
   "cell_type": "markdown",
   "id": "09fee7c8",
   "metadata": {},
   "source": [
    "###### *Predicting price of pre-owned cars*"
   ]
  },
  {
   "cell_type": "code",
   "execution_count": 1,
   "id": "0d612883",
   "metadata": {},
   "outputs": [],
   "source": [
    "import pandas as pd     #to work with dataframes\n",
    "import numpy as np      #to peform numeric operation\n",
    "import seaborn as sns"
   ]
  },
  {
   "cell_type": "code",
   "execution_count": 2,
   "id": "40f176a6",
   "metadata": {},
   "outputs": [],
   "source": [
    "## Setting dimensions for plot\n",
    "sns.set(rc={\"figure.figsize\":(11.7,8.27)})"
   ]
  },
  {
   "cell_type": "code",
   "execution_count": 3,
   "id": "3f3bbcff",
   "metadata": {},
   "outputs": [
    {
     "data": {
      "text/html": [
       "<div>\n",
       "<style scoped>\n",
       "    .dataframe tbody tr th:only-of-type {\n",
       "        vertical-align: middle;\n",
       "    }\n",
       "\n",
       "    .dataframe tbody tr th {\n",
       "        vertical-align: top;\n",
       "    }\n",
       "\n",
       "    .dataframe thead th {\n",
       "        text-align: right;\n",
       "    }\n",
       "</style>\n",
       "<table border=\"1\" class=\"dataframe\">\n",
       "  <thead>\n",
       "    <tr style=\"text-align: right;\">\n",
       "      <th></th>\n",
       "      <th>dateCrawled</th>\n",
       "      <th>name</th>\n",
       "      <th>seller</th>\n",
       "      <th>offerType</th>\n",
       "      <th>price</th>\n",
       "      <th>abtest</th>\n",
       "      <th>vehicleType</th>\n",
       "      <th>yearOfRegistration</th>\n",
       "      <th>gearbox</th>\n",
       "      <th>powerPS</th>\n",
       "      <th>model</th>\n",
       "      <th>kilometer</th>\n",
       "      <th>monthOfRegistration</th>\n",
       "      <th>fuelType</th>\n",
       "      <th>brand</th>\n",
       "      <th>notRepairedDamage</th>\n",
       "      <th>dateCreated</th>\n",
       "      <th>postalCode</th>\n",
       "      <th>lastSeen</th>\n",
       "    </tr>\n",
       "  </thead>\n",
       "  <tbody>\n",
       "    <tr>\n",
       "      <th>0</th>\n",
       "      <td>30/03/2016 13:51</td>\n",
       "      <td>Zu_verkaufen</td>\n",
       "      <td>private</td>\n",
       "      <td>offer</td>\n",
       "      <td>4450</td>\n",
       "      <td>test</td>\n",
       "      <td>limousine</td>\n",
       "      <td>2003</td>\n",
       "      <td>manual</td>\n",
       "      <td>150</td>\n",
       "      <td>3er</td>\n",
       "      <td>150000</td>\n",
       "      <td>3</td>\n",
       "      <td>diesel</td>\n",
       "      <td>bmw</td>\n",
       "      <td>NaN</td>\n",
       "      <td>30/03/2016 0:00</td>\n",
       "      <td>20257</td>\n",
       "      <td>7/4/2016 4:44</td>\n",
       "    </tr>\n",
       "    <tr>\n",
       "      <th>1</th>\n",
       "      <td>7/3/2016 9:54</td>\n",
       "      <td>Volvo_XC90_2.4D_Summum</td>\n",
       "      <td>private</td>\n",
       "      <td>offer</td>\n",
       "      <td>13299</td>\n",
       "      <td>control</td>\n",
       "      <td>suv</td>\n",
       "      <td>2005</td>\n",
       "      <td>manual</td>\n",
       "      <td>163</td>\n",
       "      <td>xc_reihe</td>\n",
       "      <td>150000</td>\n",
       "      <td>6</td>\n",
       "      <td>diesel</td>\n",
       "      <td>volvo</td>\n",
       "      <td>no</td>\n",
       "      <td>7/3/2016 0:00</td>\n",
       "      <td>88045</td>\n",
       "      <td>26/03/2016 13:17</td>\n",
       "    </tr>\n",
       "    <tr>\n",
       "      <th>2</th>\n",
       "      <td>1/4/2016 0:57</td>\n",
       "      <td>Volkswagen_Touran</td>\n",
       "      <td>private</td>\n",
       "      <td>offer</td>\n",
       "      <td>3200</td>\n",
       "      <td>test</td>\n",
       "      <td>bus</td>\n",
       "      <td>2003</td>\n",
       "      <td>manual</td>\n",
       "      <td>101</td>\n",
       "      <td>touran</td>\n",
       "      <td>150000</td>\n",
       "      <td>11</td>\n",
       "      <td>diesel</td>\n",
       "      <td>volkswagen</td>\n",
       "      <td>NaN</td>\n",
       "      <td>31/03/2016 0:00</td>\n",
       "      <td>27449</td>\n",
       "      <td>1/4/2016 8:40</td>\n",
       "    </tr>\n",
       "    <tr>\n",
       "      <th>3</th>\n",
       "      <td>19/03/2016 17:50</td>\n",
       "      <td>Seat_Ibiza_1.4_16V_Reference</td>\n",
       "      <td>private</td>\n",
       "      <td>offer</td>\n",
       "      <td>4500</td>\n",
       "      <td>control</td>\n",
       "      <td>small car</td>\n",
       "      <td>2006</td>\n",
       "      <td>manual</td>\n",
       "      <td>86</td>\n",
       "      <td>ibiza</td>\n",
       "      <td>60000</td>\n",
       "      <td>12</td>\n",
       "      <td>petrol</td>\n",
       "      <td>seat</td>\n",
       "      <td>no</td>\n",
       "      <td>19/03/2016 0:00</td>\n",
       "      <td>34537</td>\n",
       "      <td>7/4/2016 4:44</td>\n",
       "    </tr>\n",
       "    <tr>\n",
       "      <th>4</th>\n",
       "      <td>16/03/2016 14:51</td>\n",
       "      <td>Volvo_XC90_D5_Aut._RDesign_R_Design_AWD_GSHD_S...</td>\n",
       "      <td>private</td>\n",
       "      <td>offer</td>\n",
       "      <td>18750</td>\n",
       "      <td>test</td>\n",
       "      <td>suv</td>\n",
       "      <td>2008</td>\n",
       "      <td>automatic</td>\n",
       "      <td>185</td>\n",
       "      <td>xc_reihe</td>\n",
       "      <td>150000</td>\n",
       "      <td>11</td>\n",
       "      <td>diesel</td>\n",
       "      <td>volvo</td>\n",
       "      <td>no</td>\n",
       "      <td>16/03/2016 0:00</td>\n",
       "      <td>55270</td>\n",
       "      <td>1/4/2016 23:18</td>\n",
       "    </tr>\n",
       "  </tbody>\n",
       "</table>\n",
       "</div>"
      ],
      "text/plain": [
       "        dateCrawled                                               name  \\\n",
       "0  30/03/2016 13:51                                       Zu_verkaufen   \n",
       "1     7/3/2016 9:54                             Volvo_XC90_2.4D_Summum   \n",
       "2     1/4/2016 0:57                                  Volkswagen_Touran   \n",
       "3  19/03/2016 17:50                       Seat_Ibiza_1.4_16V_Reference   \n",
       "4  16/03/2016 14:51  Volvo_XC90_D5_Aut._RDesign_R_Design_AWD_GSHD_S...   \n",
       "\n",
       "    seller offerType  price   abtest vehicleType  yearOfRegistration  \\\n",
       "0  private     offer   4450     test   limousine                2003   \n",
       "1  private     offer  13299  control         suv                2005   \n",
       "2  private     offer   3200     test         bus                2003   \n",
       "3  private     offer   4500  control   small car                2006   \n",
       "4  private     offer  18750     test         suv                2008   \n",
       "\n",
       "     gearbox  powerPS     model  kilometer  monthOfRegistration fuelType  \\\n",
       "0     manual      150       3er     150000                    3   diesel   \n",
       "1     manual      163  xc_reihe     150000                    6   diesel   \n",
       "2     manual      101    touran     150000                   11   diesel   \n",
       "3     manual       86     ibiza      60000                   12   petrol   \n",
       "4  automatic      185  xc_reihe     150000                   11   diesel   \n",
       "\n",
       "        brand notRepairedDamage      dateCreated  postalCode          lastSeen  \n",
       "0         bmw               NaN  30/03/2016 0:00       20257     7/4/2016 4:44  \n",
       "1       volvo                no    7/3/2016 0:00       88045  26/03/2016 13:17  \n",
       "2  volkswagen               NaN  31/03/2016 0:00       27449     1/4/2016 8:40  \n",
       "3        seat                no  19/03/2016 0:00       34537     7/4/2016 4:44  \n",
       "4       volvo                no  16/03/2016 0:00       55270    1/4/2016 23:18  "
      ]
     },
     "execution_count": 3,
     "metadata": {},
     "output_type": "execute_result"
    }
   ],
   "source": [
    "## Reading CS file\n",
    "cars_data = pd.read_csv(\"cars_sampled.csv\")\n",
    "cars_data.head()"
   ]
  },
  {
   "cell_type": "code",
   "execution_count": 4,
   "id": "6d89f9bb",
   "metadata": {},
   "outputs": [],
   "source": [
    "# creating a deep copy i.e any changes made in cars will not be reflected back to cars_data\n",
    "cars = cars_data.copy()"
   ]
  },
  {
   "cell_type": "code",
   "execution_count": 5,
   "id": "f1041187",
   "metadata": {},
   "outputs": [
    {
     "name": "stdout",
     "output_type": "stream",
     "text": [
      "<class 'pandas.core.frame.DataFrame'>\n",
      "RangeIndex: 50001 entries, 0 to 50000\n",
      "Data columns (total 19 columns):\n",
      " #   Column               Non-Null Count  Dtype \n",
      "---  ------               --------------  ----- \n",
      " 0   dateCrawled          50001 non-null  object\n",
      " 1   name                 50001 non-null  object\n",
      " 2   seller               50001 non-null  object\n",
      " 3   offerType            50001 non-null  object\n",
      " 4   price                50001 non-null  int64 \n",
      " 5   abtest               50001 non-null  object\n",
      " 6   vehicleType          44813 non-null  object\n",
      " 7   yearOfRegistration   50001 non-null  int64 \n",
      " 8   gearbox              47177 non-null  object\n",
      " 9   powerPS              50001 non-null  int64 \n",
      " 10  model                47243 non-null  object\n",
      " 11  kilometer            50001 non-null  int64 \n",
      " 12  monthOfRegistration  50001 non-null  int64 \n",
      " 13  fuelType             45498 non-null  object\n",
      " 14  brand                50001 non-null  object\n",
      " 15  notRepairedDamage    40285 non-null  object\n",
      " 16  dateCreated          50001 non-null  object\n",
      " 17  postalCode           50001 non-null  int64 \n",
      " 18  lastSeen             50001 non-null  object\n",
      "dtypes: int64(6), object(13)\n",
      "memory usage: 7.2+ MB\n"
     ]
    }
   ],
   "source": [
    "# Structure of the data\n",
    "cars.info()"
   ]
  },
  {
   "cell_type": "markdown",
   "id": "03cdfa41",
   "metadata": {},
   "source": [
    "*We can see that there is 5001 entries with 19 columns*\n",
    "\n",
    "*And there are some missing value in vehicleType,gearbox,model,fuelType* "
   ]
  },
  {
   "cell_type": "code",
   "execution_count": 6,
   "id": "1aed702a",
   "metadata": {},
   "outputs": [
    {
     "data": {
      "text/html": [
       "<div>\n",
       "<style scoped>\n",
       "    .dataframe tbody tr th:only-of-type {\n",
       "        vertical-align: middle;\n",
       "    }\n",
       "\n",
       "    .dataframe tbody tr th {\n",
       "        vertical-align: top;\n",
       "    }\n",
       "\n",
       "    .dataframe thead th {\n",
       "        text-align: right;\n",
       "    }\n",
       "</style>\n",
       "<table border=\"1\" class=\"dataframe\">\n",
       "  <thead>\n",
       "    <tr style=\"text-align: right;\">\n",
       "      <th></th>\n",
       "      <th>price</th>\n",
       "      <th>yearOfRegistration</th>\n",
       "      <th>powerPS</th>\n",
       "      <th>kilometer</th>\n",
       "      <th>monthOfRegistration</th>\n",
       "      <th>postalCode</th>\n",
       "    </tr>\n",
       "  </thead>\n",
       "  <tbody>\n",
       "    <tr>\n",
       "      <th>count</th>\n",
       "      <td>5.000100e+04</td>\n",
       "      <td>50001.000000</td>\n",
       "      <td>50001.000000</td>\n",
       "      <td>50001.000000</td>\n",
       "      <td>50001.000000</td>\n",
       "      <td>50001.000000</td>\n",
       "    </tr>\n",
       "    <tr>\n",
       "      <th>mean</th>\n",
       "      <td>6.559865e+03</td>\n",
       "      <td>2005.544229</td>\n",
       "      <td>116.496130</td>\n",
       "      <td>125613.687726</td>\n",
       "      <td>5.743725</td>\n",
       "      <td>50775.216696</td>\n",
       "    </tr>\n",
       "    <tr>\n",
       "      <th>std</th>\n",
       "      <td>8.581847e+04</td>\n",
       "      <td>122.991832</td>\n",
       "      <td>230.567709</td>\n",
       "      <td>40205.234483</td>\n",
       "      <td>3.711345</td>\n",
       "      <td>25743.701933</td>\n",
       "    </tr>\n",
       "    <tr>\n",
       "      <th>min</th>\n",
       "      <td>0.000000e+00</td>\n",
       "      <td>1000.000000</td>\n",
       "      <td>0.000000</td>\n",
       "      <td>5000.000000</td>\n",
       "      <td>0.000000</td>\n",
       "      <td>1067.000000</td>\n",
       "    </tr>\n",
       "    <tr>\n",
       "      <th>25%</th>\n",
       "      <td>1.150000e+03</td>\n",
       "      <td>1999.000000</td>\n",
       "      <td>69.000000</td>\n",
       "      <td>125000.000000</td>\n",
       "      <td>3.000000</td>\n",
       "      <td>30559.000000</td>\n",
       "    </tr>\n",
       "    <tr>\n",
       "      <th>50%</th>\n",
       "      <td>2.950000e+03</td>\n",
       "      <td>2003.000000</td>\n",
       "      <td>105.000000</td>\n",
       "      <td>150000.000000</td>\n",
       "      <td>6.000000</td>\n",
       "      <td>49504.000000</td>\n",
       "    </tr>\n",
       "    <tr>\n",
       "      <th>75%</th>\n",
       "      <td>7.190000e+03</td>\n",
       "      <td>2008.000000</td>\n",
       "      <td>150.000000</td>\n",
       "      <td>150000.000000</td>\n",
       "      <td>9.000000</td>\n",
       "      <td>71404.000000</td>\n",
       "    </tr>\n",
       "    <tr>\n",
       "      <th>max</th>\n",
       "      <td>1.234568e+07</td>\n",
       "      <td>9999.000000</td>\n",
       "      <td>19312.000000</td>\n",
       "      <td>150000.000000</td>\n",
       "      <td>12.000000</td>\n",
       "      <td>99998.000000</td>\n",
       "    </tr>\n",
       "  </tbody>\n",
       "</table>\n",
       "</div>"
      ],
      "text/plain": [
       "              price  yearOfRegistration       powerPS      kilometer  \\\n",
       "count  5.000100e+04        50001.000000  50001.000000   50001.000000   \n",
       "mean   6.559865e+03         2005.544229    116.496130  125613.687726   \n",
       "std    8.581847e+04          122.991832    230.567709   40205.234483   \n",
       "min    0.000000e+00         1000.000000      0.000000    5000.000000   \n",
       "25%    1.150000e+03         1999.000000     69.000000  125000.000000   \n",
       "50%    2.950000e+03         2003.000000    105.000000  150000.000000   \n",
       "75%    7.190000e+03         2008.000000    150.000000  150000.000000   \n",
       "max    1.234568e+07         9999.000000  19312.000000  150000.000000   \n",
       "\n",
       "       monthOfRegistration    postalCode  \n",
       "count         50001.000000  50001.000000  \n",
       "mean              5.743725  50775.216696  \n",
       "std               3.711345  25743.701933  \n",
       "min               0.000000   1067.000000  \n",
       "25%               3.000000  30559.000000  \n",
       "50%               6.000000  49504.000000  \n",
       "75%               9.000000  71404.000000  \n",
       "max              12.000000  99998.000000  "
      ]
     },
     "execution_count": 6,
     "metadata": {},
     "output_type": "execute_result"
    }
   ],
   "source": [
    "# summarizing the data i.e summary of numerical variable\n",
    "cars.describe()"
   ]
  },
  {
   "cell_type": "code",
   "execution_count": 7,
   "id": "c6c8b384",
   "metadata": {},
   "outputs": [
    {
     "data": {
      "text/html": [
       "<div>\n",
       "<style scoped>\n",
       "    .dataframe tbody tr th:only-of-type {\n",
       "        vertical-align: middle;\n",
       "    }\n",
       "\n",
       "    .dataframe tbody tr th {\n",
       "        vertical-align: top;\n",
       "    }\n",
       "\n",
       "    .dataframe thead th {\n",
       "        text-align: right;\n",
       "    }\n",
       "</style>\n",
       "<table border=\"1\" class=\"dataframe\">\n",
       "  <thead>\n",
       "    <tr style=\"text-align: right;\">\n",
       "      <th></th>\n",
       "      <th>price</th>\n",
       "      <th>yearOfRegistration</th>\n",
       "      <th>powerPS</th>\n",
       "      <th>kilometer</th>\n",
       "      <th>monthOfRegistration</th>\n",
       "      <th>postalCode</th>\n",
       "    </tr>\n",
       "  </thead>\n",
       "  <tbody>\n",
       "    <tr>\n",
       "      <th>count</th>\n",
       "      <td>50001.000</td>\n",
       "      <td>50001.000</td>\n",
       "      <td>50001.000</td>\n",
       "      <td>50001.000</td>\n",
       "      <td>50001.000</td>\n",
       "      <td>50001.000</td>\n",
       "    </tr>\n",
       "    <tr>\n",
       "      <th>mean</th>\n",
       "      <td>6559.865</td>\n",
       "      <td>2005.544</td>\n",
       "      <td>116.496</td>\n",
       "      <td>125613.688</td>\n",
       "      <td>5.744</td>\n",
       "      <td>50775.217</td>\n",
       "    </tr>\n",
       "    <tr>\n",
       "      <th>std</th>\n",
       "      <td>85818.470</td>\n",
       "      <td>122.992</td>\n",
       "      <td>230.568</td>\n",
       "      <td>40205.234</td>\n",
       "      <td>3.711</td>\n",
       "      <td>25743.702</td>\n",
       "    </tr>\n",
       "    <tr>\n",
       "      <th>min</th>\n",
       "      <td>0.000</td>\n",
       "      <td>1000.000</td>\n",
       "      <td>0.000</td>\n",
       "      <td>5000.000</td>\n",
       "      <td>0.000</td>\n",
       "      <td>1067.000</td>\n",
       "    </tr>\n",
       "    <tr>\n",
       "      <th>25%</th>\n",
       "      <td>1150.000</td>\n",
       "      <td>1999.000</td>\n",
       "      <td>69.000</td>\n",
       "      <td>125000.000</td>\n",
       "      <td>3.000</td>\n",
       "      <td>30559.000</td>\n",
       "    </tr>\n",
       "    <tr>\n",
       "      <th>50%</th>\n",
       "      <td>2950.000</td>\n",
       "      <td>2003.000</td>\n",
       "      <td>105.000</td>\n",
       "      <td>150000.000</td>\n",
       "      <td>6.000</td>\n",
       "      <td>49504.000</td>\n",
       "    </tr>\n",
       "    <tr>\n",
       "      <th>75%</th>\n",
       "      <td>7190.000</td>\n",
       "      <td>2008.000</td>\n",
       "      <td>150.000</td>\n",
       "      <td>150000.000</td>\n",
       "      <td>9.000</td>\n",
       "      <td>71404.000</td>\n",
       "    </tr>\n",
       "    <tr>\n",
       "      <th>max</th>\n",
       "      <td>12345678.000</td>\n",
       "      <td>9999.000</td>\n",
       "      <td>19312.000</td>\n",
       "      <td>150000.000</td>\n",
       "      <td>12.000</td>\n",
       "      <td>99998.000</td>\n",
       "    </tr>\n",
       "  </tbody>\n",
       "</table>\n",
       "</div>"
      ],
      "text/plain": [
       "             price  yearOfRegistration   powerPS  kilometer  \\\n",
       "count    50001.000           50001.000 50001.000  50001.000   \n",
       "mean      6559.865            2005.544   116.496 125613.688   \n",
       "std      85818.470             122.992   230.568  40205.234   \n",
       "min          0.000            1000.000     0.000   5000.000   \n",
       "25%       1150.000            1999.000    69.000 125000.000   \n",
       "50%       2950.000            2003.000   105.000 150000.000   \n",
       "75%       7190.000            2008.000   150.000 150000.000   \n",
       "max   12345678.000            9999.000 19312.000 150000.000   \n",
       "\n",
       "       monthOfRegistration  postalCode  \n",
       "count            50001.000   50001.000  \n",
       "mean                 5.744   50775.217  \n",
       "std                  3.711   25743.702  \n",
       "min                  0.000    1067.000  \n",
       "25%                  3.000   30559.000  \n",
       "50%                  6.000   49504.000  \n",
       "75%                  9.000   71404.000  \n",
       "max                 12.000   99998.000  "
      ]
     },
     "execution_count": 7,
     "metadata": {},
     "output_type": "execute_result"
    }
   ],
   "source": [
    "# to dislplay to three decimal place float value\n",
    "pd.set_option(\"display.float_format\",lambda x: \"%.3f\" % x)  \n",
    "cars.describe()"
   ]
  },
  {
   "cell_type": "code",
   "execution_count": 8,
   "id": "f293649f",
   "metadata": {},
   "outputs": [
    {
     "data": {
      "text/html": [
       "<div>\n",
       "<style scoped>\n",
       "    .dataframe tbody tr th:only-of-type {\n",
       "        vertical-align: middle;\n",
       "    }\n",
       "\n",
       "    .dataframe tbody tr th {\n",
       "        vertical-align: top;\n",
       "    }\n",
       "\n",
       "    .dataframe thead th {\n",
       "        text-align: right;\n",
       "    }\n",
       "</style>\n",
       "<table border=\"1\" class=\"dataframe\">\n",
       "  <thead>\n",
       "    <tr style=\"text-align: right;\">\n",
       "      <th></th>\n",
       "      <th>price</th>\n",
       "      <th>yearOfRegistration</th>\n",
       "      <th>powerPS</th>\n",
       "      <th>kilometer</th>\n",
       "      <th>monthOfRegistration</th>\n",
       "      <th>postalCode</th>\n",
       "    </tr>\n",
       "  </thead>\n",
       "  <tbody>\n",
       "    <tr>\n",
       "      <th>count</th>\n",
       "      <td>50001.000</td>\n",
       "      <td>50001.000</td>\n",
       "      <td>50001.000</td>\n",
       "      <td>50001.000</td>\n",
       "      <td>50001.000</td>\n",
       "      <td>50001.000</td>\n",
       "    </tr>\n",
       "    <tr>\n",
       "      <th>mean</th>\n",
       "      <td>6559.865</td>\n",
       "      <td>2005.544</td>\n",
       "      <td>116.496</td>\n",
       "      <td>125613.688</td>\n",
       "      <td>5.744</td>\n",
       "      <td>50775.217</td>\n",
       "    </tr>\n",
       "    <tr>\n",
       "      <th>std</th>\n",
       "      <td>85818.470</td>\n",
       "      <td>122.992</td>\n",
       "      <td>230.568</td>\n",
       "      <td>40205.234</td>\n",
       "      <td>3.711</td>\n",
       "      <td>25743.702</td>\n",
       "    </tr>\n",
       "    <tr>\n",
       "      <th>min</th>\n",
       "      <td>0.000</td>\n",
       "      <td>1000.000</td>\n",
       "      <td>0.000</td>\n",
       "      <td>5000.000</td>\n",
       "      <td>0.000</td>\n",
       "      <td>1067.000</td>\n",
       "    </tr>\n",
       "    <tr>\n",
       "      <th>25%</th>\n",
       "      <td>1150.000</td>\n",
       "      <td>1999.000</td>\n",
       "      <td>69.000</td>\n",
       "      <td>125000.000</td>\n",
       "      <td>3.000</td>\n",
       "      <td>30559.000</td>\n",
       "    </tr>\n",
       "    <tr>\n",
       "      <th>50%</th>\n",
       "      <td>2950.000</td>\n",
       "      <td>2003.000</td>\n",
       "      <td>105.000</td>\n",
       "      <td>150000.000</td>\n",
       "      <td>6.000</td>\n",
       "      <td>49504.000</td>\n",
       "    </tr>\n",
       "    <tr>\n",
       "      <th>75%</th>\n",
       "      <td>7190.000</td>\n",
       "      <td>2008.000</td>\n",
       "      <td>150.000</td>\n",
       "      <td>150000.000</td>\n",
       "      <td>9.000</td>\n",
       "      <td>71404.000</td>\n",
       "    </tr>\n",
       "    <tr>\n",
       "      <th>max</th>\n",
       "      <td>12345678.000</td>\n",
       "      <td>9999.000</td>\n",
       "      <td>19312.000</td>\n",
       "      <td>150000.000</td>\n",
       "      <td>12.000</td>\n",
       "      <td>99998.000</td>\n",
       "    </tr>\n",
       "  </tbody>\n",
       "</table>\n",
       "</div>"
      ],
      "text/plain": [
       "             price  yearOfRegistration   powerPS  kilometer  \\\n",
       "count    50001.000           50001.000 50001.000  50001.000   \n",
       "mean      6559.865            2005.544   116.496 125613.688   \n",
       "std      85818.470             122.992   230.568  40205.234   \n",
       "min          0.000            1000.000     0.000   5000.000   \n",
       "25%       1150.000            1999.000    69.000 125000.000   \n",
       "50%       2950.000            2003.000   105.000 150000.000   \n",
       "75%       7190.000            2008.000   150.000 150000.000   \n",
       "max   12345678.000            9999.000 19312.000 150000.000   \n",
       "\n",
       "       monthOfRegistration  postalCode  \n",
       "count            50001.000   50001.000  \n",
       "mean                 5.744   50775.217  \n",
       "std                  3.711   25743.702  \n",
       "min                  0.000    1067.000  \n",
       "25%                  3.000   30559.000  \n",
       "50%                  6.000   49504.000  \n",
       "75%                  9.000   71404.000  \n",
       "max                 12.000   99998.000  "
      ]
     },
     "execution_count": 8,
     "metadata": {},
     "output_type": "execute_result"
    }
   ],
   "source": [
    "# To display maximum set of columns\n",
    "pd.set_option('display.max_columns',500)\n",
    "cars.describe()"
   ]
  },
  {
   "cell_type": "markdown",
   "id": "71d29c56",
   "metadata": {},
   "source": [
    "*There is a huge difference between the mean and median of \"Price\" variable. That means price is very very skewed*"
   ]
  },
  {
   "cell_type": "code",
   "execution_count": 9,
   "id": "e61bb023",
   "metadata": {},
   "outputs": [],
   "source": [
    "# Dropping unwanted columns\n",
    "col = ['name','dateCrawled','dateCreated','postalCode','lastSeen']\n",
    "cars = cars.drop(columns = col, axis=1)"
   ]
  },
  {
   "cell_type": "markdown",
   "id": "2b366934",
   "metadata": {},
   "source": [
    "*We have dropped 5 columns here*"
   ]
  },
  {
   "cell_type": "code",
   "execution_count": 10,
   "id": "a3f95a12",
   "metadata": {},
   "outputs": [
    {
     "data": {
      "text/plain": [
       "(49531, 14)"
      ]
     },
     "execution_count": 10,
     "metadata": {},
     "output_type": "execute_result"
    }
   ],
   "source": [
    "# Removing the duplicate records. Keeping first occurences of the record\n",
    "cars.drop_duplicates(keep = 'first', inplace = True)\n",
    "cars.shape"
   ]
  },
  {
   "cell_type": "markdown",
   "id": "2f080fab",
   "metadata": {},
   "source": [
    "*There are (50001 - 49531) = 470 duplicate records*"
   ]
  },
  {
   "cell_type": "markdown",
   "id": "4f9a7571",
   "metadata": {},
   "source": [
    "##### Data Cleaning"
   ]
  },
  {
   "cell_type": "code",
   "execution_count": 11,
   "id": "6f35c536",
   "metadata": {},
   "outputs": [
    {
     "data": {
      "text/plain": [
       "seller                    0\n",
       "offerType                 0\n",
       "price                     0\n",
       "abtest                    0\n",
       "vehicleType            5152\n",
       "yearOfRegistration        0\n",
       "gearbox                2765\n",
       "powerPS                   0\n",
       "model                  2730\n",
       "kilometer                 0\n",
       "monthOfRegistration       0\n",
       "fuelType               4467\n",
       "brand                     0\n",
       "notRepairedDamage      9640\n",
       "dtype: int64"
      ]
     },
     "execution_count": 11,
     "metadata": {},
     "output_type": "execute_result"
    }
   ],
   "source": [
    "# No. of missing values in each column\n",
    "cars.isnull().sum()"
   ]
  },
  {
   "cell_type": "markdown",
   "id": "22b28c04",
   "metadata": {},
   "source": [
    "*Here,we can see that  'vehicleType','gearbox', 'model','fuelType','notRepairedDamage' have 5152,2765,2730,4467,9640 missing values respectively*"
   ]
  },
  {
   "cell_type": "code",
   "execution_count": 12,
   "id": "6257b713",
   "metadata": {},
   "outputs": [
    {
     "data": {
      "text/plain": [
       "1000     6\n",
       "1255     1\n",
       "1500     2\n",
       "1910    14\n",
       "1928     1\n",
       "        ..\n",
       "7500     1\n",
       "7800     1\n",
       "8500     1\n",
       "8888     2\n",
       "9999     7\n",
       "Name: yearOfRegistration, Length: 97, dtype: int64"
      ]
     },
     "execution_count": 12,
     "metadata": {},
     "output_type": "execute_result"
    }
   ],
   "source": [
    "# Variable yearOfRegistration\n",
    "yearwise_count = cars['yearOfRegistration'].value_counts().sort_index()\n",
    "yearwise_count"
   ]
  },
  {
   "cell_type": "code",
   "execution_count": 13,
   "id": "ba4b15b1",
   "metadata": {},
   "outputs": [
    {
     "name": "stdout",
     "output_type": "stream",
     "text": [
      "26\n"
     ]
    },
    {
     "data": {
      "text/plain": [
       "38"
      ]
     },
     "execution_count": 13,
     "metadata": {},
     "output_type": "execute_result"
    }
   ],
   "source": [
    "print(sum(cars['yearOfRegistration']>2018))\n",
    "sum(cars['yearOfRegistration']<1950)"
   ]
  },
  {
   "cell_type": "code",
   "execution_count": 14,
   "id": "6e32225e",
   "metadata": {},
   "outputs": [
    {
     "data": {
      "text/plain": [
       "<AxesSubplot:xlabel='yearOfRegistration', ylabel='price'>"
      ]
     },
     "execution_count": 14,
     "metadata": {},
     "output_type": "execute_result"
    },
    {
     "data": {
      "image/png": "[encoded data removed]",
      "text/plain": [
       "<Figure size 842.4x595.44 with 1 Axes>"
      ]
     },
     "metadata": {},
     "output_type": "display_data"
    }
   ],
   "source": [
    "sns.regplot(x = 'yearOfRegistration',y = \"price\", scatter = True,fit_reg = False, data = cars)"
   ]
  },
  {
   "cell_type": "raw",
   "id": "09079f2c",
   "metadata": {},
   "source": [
    "X axis: \"yearOfRegistration\"\n",
    "Y axis: \"price\"\n",
    "\n",
    "The plot is not explaining much we have dots hither and thither. Becaue there are values which are very very high so they are just smearing out the effect on the other points. So, we need to clean this column to understand the effect.\n",
    "\n",
    "Working with range = 1950 and 2018"
   ]
  },
  {
   "cell_type": "code",
   "execution_count": 15,
   "id": "0b161d5e",
   "metadata": {},
   "outputs": [
    {
     "name": "stderr",
     "output_type": "stream",
     "text": [
      "C:\\ProgramData\\Anaconda3\\lib\\site-packages\\seaborn\\distributions.py:2619: FutureWarning: `distplot` is a deprecated function and will be removed in a future version. Please adapt your code to use either `displot` (a figure-level function with similar flexibility) or `histplot` (an axes-level function for histograms).\n",
      "  warnings.warn(msg, FutureWarning)\n"
     ]
    },
    {
     "data": {
      "text/plain": [
       "<AxesSubplot:xlabel='price', ylabel='Density'>"
      ]
     },
     "execution_count": 15,
     "metadata": {},
     "output_type": "execute_result"
    },
    {
     "data": {
      "image/png": "[encoded data removed]",
      "text/plain": [
       "<Figure size 842.4x595.44 with 1 Axes>"
      ]
     },
     "metadata": {},
     "output_type": "display_data"
    }
   ],
   "source": [
    "# Variable price\n",
    "price_count = cars['price'].value_counts().sort_index()\n",
    "price_count\n",
    "sns.distplot(cars['price'])"
   ]
  },
  {
   "cell_type": "code",
   "execution_count": 16,
   "id": "791f270f",
   "metadata": {
    "scrolled": true
   },
   "outputs": [
    {
     "data": {
      "text/plain": [
       "count      49531.000\n",
       "mean        6567.220\n",
       "std        86222.378\n",
       "min            0.000\n",
       "25%         1150.000\n",
       "50%         2950.000\n",
       "75%         7100.000\n",
       "max     12345678.000\n",
       "Name: price, dtype: float64"
      ]
     },
     "execution_count": 16,
     "metadata": {},
     "output_type": "execute_result"
    }
   ],
   "source": [
    "cars['price'].describe()"
   ]
  },
  {
   "cell_type": "markdown",
   "id": "9504e424",
   "metadata": {},
   "source": [
    "Mean = 6567.220 and median = 2950.000. There is huge difference and this itself accounts for the skewness in the data. \n",
    "The min value is 0 and max value is really very high so range is really very wide and we have to marrow it down to come up with the generalised model "
   ]
  },
  {
   "cell_type": "code",
   "execution_count": 17,
   "id": "608ee8d2",
   "metadata": {
    "collapsed": true
   },
   "outputs": [
    {
     "name": "stdout",
     "output_type": "stream",
     "text": [
      "0        False\n",
      "1        False\n",
      "2        False\n",
      "3        False\n",
      "4        False\n",
      "         ...  \n",
      "49996    False\n",
      "49997    False\n",
      "49998    False\n",
      "49999    False\n",
      "50000    False\n",
      "Name: price, Length: 49531, dtype: bool\n",
      "0        False\n",
      "1        False\n",
      "2        False\n",
      "3        False\n",
      "4        False\n",
      "         ...  \n",
      "49996     True\n",
      "49997    False\n",
      "49998     True\n",
      "49999    False\n",
      "50000    False\n",
      "Name: price, Length: 49531, dtype: bool\n"
     ]
    },
    {
     "data": {
      "image/png": "[encoded data removed]",
      "text/plain": [
       "<Figure size 842.4x595.44 with 1 Axes>"
      ]
     },
     "metadata": {},
     "output_type": "display_data"
    }
   ],
   "source": [
    "sns.boxplot(y=cars['price'])\n",
    "print(cars['price']>150000)    #:: 34\n",
    "print(cars['price']<100)       #:: 1748"
   ]
  },
  {
   "cell_type": "markdown",
   "id": "68e99577",
   "metadata": {},
   "source": [
    "Boxplot tells us there are some outliers here. Infact, we cannot see the box, now this tells us that there are considerable outliers in our data which are very very extreme in nature and hence we are not able to see the behaviour of the variable\n",
    "\n",
    "Working range - 100 and 150000"
   ]
  },
  {
   "cell_type": "code",
   "execution_count": 18,
   "id": "6a47133b",
   "metadata": {
    "collapsed": true
   },
   "outputs": [
    {
     "name": "stderr",
     "output_type": "stream",
     "text": [
      "C:\\ProgramData\\Anaconda3\\lib\\site-packages\\seaborn\\distributions.py:2619: FutureWarning: `distplot` is a deprecated function and will be removed in a future version. Please adapt your code to use either `displot` (a figure-level function with similar flexibility) or `histplot` (an axes-level function for histograms).\n",
      "  warnings.warn(msg, FutureWarning)\n"
     ]
    },
    {
     "data": {
      "text/plain": [
       "<AxesSubplot:xlabel='powerPS', ylabel='Density'>"
      ]
     },
     "execution_count": 18,
     "metadata": {},
     "output_type": "execute_result"
    },
    {
     "data": {
      "image/png": "[encoded data removed]",
      "text/plain": [
       "<Figure size 842.4x595.44 with 1 Axes>"
      ]
     },
     "metadata": {},
     "output_type": "display_data"
    }
   ],
   "source": [
    "# Variable powerPS\n",
    "price_count = cars['powerPS'].value_counts().sort_index()\n",
    "price_count\n",
    "sns.distplot(cars['powerPS'])"
   ]
  },
  {
   "cell_type": "code",
   "execution_count": 19,
   "id": "bc1414fe",
   "metadata": {},
   "outputs": [
    {
     "data": {
      "text/plain": [
       "count      49531.000\n",
       "mean        6567.220\n",
       "std        86222.378\n",
       "min            0.000\n",
       "25%         1150.000\n",
       "50%         2950.000\n",
       "75%         7100.000\n",
       "max     12345678.000\n",
       "Name: price, dtype: float64"
      ]
     },
     "execution_count": 19,
     "metadata": {},
     "output_type": "execute_result"
    }
   ],
   "source": [
    "cars['price'].describe()"
   ]
  },
  {
   "cell_type": "markdown",
   "id": "2566e3ec",
   "metadata": {},
   "source": [
    "*Though the mean and standard deviation is not far away the standard deviation is quite huge.*"
   ]
  },
  {
   "cell_type": "code",
   "execution_count": 20,
   "id": "a63a4954",
   "metadata": {
    "collapsed": true
   },
   "outputs": [
    {
     "name": "stdout",
     "output_type": "stream",
     "text": [
      "0        False\n",
      "1        False\n",
      "2        False\n",
      "3        False\n",
      "4        False\n",
      "         ...  \n",
      "49996    False\n",
      "49997    False\n",
      "49998    False\n",
      "49999    False\n",
      "50000    False\n",
      "Name: powerPS, Length: 49531, dtype: bool\n",
      "0        False\n",
      "1        False\n",
      "2        False\n",
      "3        False\n",
      "4        False\n",
      "         ...  \n",
      "49996     True\n",
      "49997     True\n",
      "49998     True\n",
      "49999     True\n",
      "50000    False\n",
      "Name: powerPS, Length: 49531, dtype: bool\n"
     ]
    },
    {
     "data": {
      "image/png": "[encoded data removed]",
      "text/plain": [
       "<Figure size 842.4x595.44 with 1 Axes>"
      ]
     },
     "metadata": {},
     "output_type": "display_data"
    }
   ],
   "source": [
    "sns.boxplot(y=cars['powerPS'])\n",
    "print(cars['powerPS']>500)    #:: 115\n",
    "print(cars['powerPS']<10)     #  :: 5565"
   ]
  },
  {
   "cell_type": "markdown",
   "id": "c15bbd58",
   "metadata": {},
   "source": [
    "There are some extreme values here that are compressing the box. So we deal with this by taking workable range of data\n",
    "\n",
    "Working Range - 10 and 500"
   ]
  },
  {
   "cell_type": "raw",
   "id": "0f95f2ce",
   "metadata": {},
   "source": [
    "Working range of yearOfRegistration - 1950 and 2018\n",
    "Working range of price- 100 and 150000\n",
    "Working Range of powerPS - 10 and 500"
   ]
  },
  {
   "cell_type": "code",
   "execution_count": 21,
   "id": "dee5ddfa",
   "metadata": {},
   "outputs": [],
   "source": [
    "# Woring range of data\n",
    "\n",
    "cars = cars[\n",
    "    (cars.yearOfRegistration <= 2018)\n",
    "    & (cars.yearOfRegistration >= 1950)\n",
    "    & (cars.price >= 100)\n",
    "    & (cars.price <= 150000)\n",
    "    & (cars.powerPS >= 10)\n",
    "    & (cars.powerPS <= 500)\n",
    "]"
   ]
  },
  {
   "cell_type": "code",
   "execution_count": 22,
   "id": "03f48888",
   "metadata": {},
   "outputs": [
    {
     "data": {
      "text/plain": [
       "(42772, 14)"
      ]
     },
     "execution_count": 22,
     "metadata": {},
     "output_type": "execute_result"
    }
   ],
   "source": [
    "cars.shape"
   ]
  },
  {
   "cell_type": "markdown",
   "id": "0151714f",
   "metadata": {},
   "source": [
    "(49531 - 42772) = 6759 records are dropped"
   ]
  },
  {
   "cell_type": "code",
   "execution_count": 23,
   "id": "3e024367",
   "metadata": {},
   "outputs": [],
   "source": [
    "# Further to simplify - variable reduction\n",
    "# Combining yearOfRegistration and monthOfRegistration\n",
    "\n",
    "cars['monthOfRegistration']/=12\n"
   ]
  },
  {
   "cell_type": "markdown",
   "id": "3afc91eb",
   "metadata": {},
   "source": [
    "To get rid of 0 we try to divide each of the entries by 12 in column monthOfRegistration. "
   ]
  },
  {
   "cell_type": "code",
   "execution_count": 24,
   "id": "b68b038c",
   "metadata": {},
   "outputs": [
    {
     "data": {
      "text/html": [
       "<div>\n",
       "<style scoped>\n",
       "    .dataframe tbody tr th:only-of-type {\n",
       "        vertical-align: middle;\n",
       "    }\n",
       "\n",
       "    .dataframe tbody tr th {\n",
       "        vertical-align: top;\n",
       "    }\n",
       "\n",
       "    .dataframe thead th {\n",
       "        text-align: right;\n",
       "    }\n",
       "</style>\n",
       "<table border=\"1\" class=\"dataframe\">\n",
       "  <thead>\n",
       "    <tr style=\"text-align: right;\">\n",
       "      <th></th>\n",
       "      <th>seller</th>\n",
       "      <th>offerType</th>\n",
       "      <th>price</th>\n",
       "      <th>abtest</th>\n",
       "      <th>vehicleType</th>\n",
       "      <th>yearOfRegistration</th>\n",
       "      <th>gearbox</th>\n",
       "      <th>powerPS</th>\n",
       "      <th>model</th>\n",
       "      <th>kilometer</th>\n",
       "      <th>monthOfRegistration</th>\n",
       "      <th>fuelType</th>\n",
       "      <th>brand</th>\n",
       "      <th>notRepairedDamage</th>\n",
       "    </tr>\n",
       "  </thead>\n",
       "  <tbody>\n",
       "    <tr>\n",
       "      <th>0</th>\n",
       "      <td>private</td>\n",
       "      <td>offer</td>\n",
       "      <td>4450</td>\n",
       "      <td>test</td>\n",
       "      <td>limousine</td>\n",
       "      <td>2003</td>\n",
       "      <td>manual</td>\n",
       "      <td>150</td>\n",
       "      <td>3er</td>\n",
       "      <td>150000</td>\n",
       "      <td>0.250</td>\n",
       "      <td>diesel</td>\n",
       "      <td>bmw</td>\n",
       "      <td>NaN</td>\n",
       "    </tr>\n",
       "    <tr>\n",
       "      <th>1</th>\n",
       "      <td>private</td>\n",
       "      <td>offer</td>\n",
       "      <td>13299</td>\n",
       "      <td>control</td>\n",
       "      <td>suv</td>\n",
       "      <td>2005</td>\n",
       "      <td>manual</td>\n",
       "      <td>163</td>\n",
       "      <td>xc_reihe</td>\n",
       "      <td>150000</td>\n",
       "      <td>0.500</td>\n",
       "      <td>diesel</td>\n",
       "      <td>volvo</td>\n",
       "      <td>no</td>\n",
       "    </tr>\n",
       "    <tr>\n",
       "      <th>2</th>\n",
       "      <td>private</td>\n",
       "      <td>offer</td>\n",
       "      <td>3200</td>\n",
       "      <td>test</td>\n",
       "      <td>bus</td>\n",
       "      <td>2003</td>\n",
       "      <td>manual</td>\n",
       "      <td>101</td>\n",
       "      <td>touran</td>\n",
       "      <td>150000</td>\n",
       "      <td>0.917</td>\n",
       "      <td>diesel</td>\n",
       "      <td>volkswagen</td>\n",
       "      <td>NaN</td>\n",
       "    </tr>\n",
       "    <tr>\n",
       "      <th>3</th>\n",
       "      <td>private</td>\n",
       "      <td>offer</td>\n",
       "      <td>4500</td>\n",
       "      <td>control</td>\n",
       "      <td>small car</td>\n",
       "      <td>2006</td>\n",
       "      <td>manual</td>\n",
       "      <td>86</td>\n",
       "      <td>ibiza</td>\n",
       "      <td>60000</td>\n",
       "      <td>1.000</td>\n",
       "      <td>petrol</td>\n",
       "      <td>seat</td>\n",
       "      <td>no</td>\n",
       "    </tr>\n",
       "    <tr>\n",
       "      <th>4</th>\n",
       "      <td>private</td>\n",
       "      <td>offer</td>\n",
       "      <td>18750</td>\n",
       "      <td>test</td>\n",
       "      <td>suv</td>\n",
       "      <td>2008</td>\n",
       "      <td>automatic</td>\n",
       "      <td>185</td>\n",
       "      <td>xc_reihe</td>\n",
       "      <td>150000</td>\n",
       "      <td>0.917</td>\n",
       "      <td>diesel</td>\n",
       "      <td>volvo</td>\n",
       "      <td>no</td>\n",
       "    </tr>\n",
       "  </tbody>\n",
       "</table>\n",
       "</div>"
      ],
      "text/plain": [
       "    seller offerType  price   abtest vehicleType  yearOfRegistration  \\\n",
       "0  private     offer   4450     test   limousine                2003   \n",
       "1  private     offer  13299  control         suv                2005   \n",
       "2  private     offer   3200     test         bus                2003   \n",
       "3  private     offer   4500  control   small car                2006   \n",
       "4  private     offer  18750     test         suv                2008   \n",
       "\n",
       "     gearbox  powerPS     model  kilometer  monthOfRegistration fuelType  \\\n",
       "0     manual      150       3er     150000                0.250   diesel   \n",
       "1     manual      163  xc_reihe     150000                0.500   diesel   \n",
       "2     manual      101    touran     150000                0.917   diesel   \n",
       "3     manual       86     ibiza      60000                1.000   petrol   \n",
       "4  automatic      185  xc_reihe     150000                0.917   diesel   \n",
       "\n",
       "        brand notRepairedDamage  \n",
       "0         bmw               NaN  \n",
       "1       volvo                no  \n",
       "2  volkswagen               NaN  \n",
       "3        seat                no  \n",
       "4       volvo                no  "
      ]
     },
     "execution_count": 24,
     "metadata": {},
     "output_type": "execute_result"
    }
   ],
   "source": [
    "cars.head()"
   ]
  },
  {
   "cell_type": "code",
   "execution_count": 25,
   "id": "1c576ce4",
   "metadata": {},
   "outputs": [
    {
     "data": {
      "text/plain": [
       "count   42772.000\n",
       "mean       14.873\n",
       "std         7.093\n",
       "min         0.000\n",
       "25%        10.330\n",
       "50%        14.830\n",
       "75%        19.170\n",
       "max        67.750\n",
       "Name: Age, dtype: float64"
      ]
     },
     "execution_count": 25,
     "metadata": {},
     "output_type": "execute_result"
    }
   ],
   "source": [
    "# Creating a new variable Age by adding yearOfRegistration and monthOfRegistration\n",
    "cars['Age'] = (2018 - cars['yearOfRegistration']) + cars['monthOfRegistration']\n",
    "cars['Age'] = round(cars['Age'],2)\n",
    "cars['Age'].describe()"
   ]
  },
  {
   "cell_type": "markdown",
   "id": "6f075e12",
   "metadata": {},
   "source": [
    "*The mean and the median are not very far-off. Now the data is not very skewed.*"
   ]
  },
  {
   "cell_type": "code",
   "execution_count": 26,
   "id": "72de12a1",
   "metadata": {},
   "outputs": [],
   "source": [
    "# Dropping yearOf andRegistration and monthOfRegistration\n",
    "cars = cars.drop(columns = ['yearOfRegistration','monthOfRegistration'], axis = 1)"
   ]
  },
  {
   "cell_type": "code",
   "execution_count": 27,
   "id": "7f63c4b5",
   "metadata": {
    "collapsed": true
   },
   "outputs": [
    {
     "name": "stderr",
     "output_type": "stream",
     "text": [
      "C:\\ProgramData\\Anaconda3\\lib\\site-packages\\seaborn\\distributions.py:2619: FutureWarning: `distplot` is a deprecated function and will be removed in a future version. Please adapt your code to use either `displot` (a figure-level function with similar flexibility) or `histplot` (an axes-level function for histograms).\n",
      "  warnings.warn(msg, FutureWarning)\n"
     ]
    },
    {
     "data": {
      "text/plain": [
       "<AxesSubplot:xlabel='Age', ylabel='Density'>"
      ]
     },
     "execution_count": 27,
     "metadata": {},
     "output_type": "execute_result"
    },
    {
     "data": {
      "image/png": "[encoded data removed]",
      "text/plain": [
       "<Figure size 842.4x595.44 with 1 Axes>"
      ]
     },
     "metadata": {},
     "output_type": "display_data"
    }
   ],
   "source": [
    "# Visualizing parameters\n",
    "sns.distplot(cars['Age'])\n"
   ]
  },
  {
   "cell_type": "code",
   "execution_count": 28,
   "id": "53046e25",
   "metadata": {
    "collapsed": true
   },
   "outputs": [
    {
     "data": {
      "text/plain": [
       "<AxesSubplot:ylabel='Age'>"
      ]
     },
     "execution_count": 28,
     "metadata": {},
     "output_type": "execute_result"
    },
    {
     "data": {
      "image/png": "[encoded data removed]",
      "text/plain": [
       "<Figure size 842.4x595.44 with 1 Axes>"
      ]
     },
     "metadata": {},
     "output_type": "display_data"
    }
   ],
   "source": [
    "sns.boxplot(y=cars['Age'])"
   ]
  },
  {
   "cell_type": "markdown",
   "id": "47639f74",
   "metadata": {},
   "source": [
    "Now we can see ,above the whiskers ther are few extreme values or outliers which was not possible in earlier case"
   ]
  },
  {
   "cell_type": "code",
   "execution_count": 29,
   "id": "c44d70f8",
   "metadata": {},
   "outputs": [],
   "source": [
    "# price\n",
    "# sns.distplot(cars['price'])\n",
    "# sns.boxplot(y=cars['price'])"
   ]
  },
  {
   "cell_type": "code",
   "execution_count": 30,
   "id": "79802f37",
   "metadata": {},
   "outputs": [],
   "source": [
    "# powerPS\n",
    "# sns.distplot(cars['powerPS'])\n",
    "# sns.boxplot(y=cars['powerPS'])"
   ]
  },
  {
   "cell_type": "markdown",
   "id": "3a28416a",
   "metadata": {},
   "source": [
    "The histogram for price is now better than earlier.Moreover, the density curve is also being fit here and we can see more ranges to the powerPS"
   ]
  },
  {
   "cell_type": "code",
   "execution_count": 31,
   "id": "fc047d42",
   "metadata": {},
   "outputs": [],
   "source": [
    "# Visualising parameters after narrowing working range\n",
    "# Age Vs price\n",
    "# sns.regplot(x ='Age',y ='price',scatter = True,fit_reg = False,data = cars)"
   ]
  },
  {
   "cell_type": "markdown",
   "id": "bc4b0b5a",
   "metadata": {},
   "source": [
    "Its a scatter plot. Earlier when we plot all these values where bunched uptogether in one end and we could not really see a clear cut effect of Age on price.\n",
    "\n",
    "Cars which are priced higher are fairly newer. But there are cars which are priced a little higher and are still older so we can treat them as vintage. A general note that with increase in age the price also drops"
   ]
  },
  {
   "cell_type": "code",
   "execution_count": 32,
   "id": "54326733",
   "metadata": {},
   "outputs": [],
   "source": [
    "# powerPS with price\n",
    "# sns.regplot(x ='powerPS',y ='price',scatter = True,fit_reg = False,data = cars)"
   ]
  },
  {
   "cell_type": "markdown",
   "id": "59527503",
   "metadata": {},
   "source": [
    "With increase in power the price eventually increases. Since now we are working with narrow range of values , we can see the effect of powerPS on price"
   ]
  },
  {
   "cell_type": "markdown",
   "id": "aaa3a783",
   "metadata": {},
   "source": [
    "Now we are going to check the effect of other variables on price. But before that we need to narrow down the variables , mostly the categorical variables to check if ther are enough count to even retain them."
   ]
  },
  {
   "cell_type": "code",
   "execution_count": 33,
   "id": "5c182ac3",
   "metadata": {},
   "outputs": [
    {
     "data": {
      "text/html": [
       "<div>\n",
       "<style scoped>\n",
       "    .dataframe tbody tr th:only-of-type {\n",
       "        vertical-align: middle;\n",
       "    }\n",
       "\n",
       "    .dataframe tbody tr th {\n",
       "        vertical-align: top;\n",
       "    }\n",
       "\n",
       "    .dataframe thead th {\n",
       "        text-align: right;\n",
       "    }\n",
       "</style>\n",
       "<table border=\"1\" class=\"dataframe\">\n",
       "  <thead>\n",
       "    <tr style=\"text-align: right;\">\n",
       "      <th>col_0</th>\n",
       "      <th>count</th>\n",
       "    </tr>\n",
       "    <tr>\n",
       "      <th>seller</th>\n",
       "      <th></th>\n",
       "    </tr>\n",
       "  </thead>\n",
       "  <tbody>\n",
       "    <tr>\n",
       "      <th>commercial</th>\n",
       "      <td>0.000</td>\n",
       "    </tr>\n",
       "    <tr>\n",
       "      <th>private</th>\n",
       "      <td>1.000</td>\n",
       "    </tr>\n",
       "  </tbody>\n",
       "</table>\n",
       "</div>"
      ],
      "text/plain": [
       "col_0       count\n",
       "seller           \n",
       "commercial  0.000\n",
       "private     1.000"
      ]
     },
     "execution_count": 33,
     "metadata": {},
     "output_type": "execute_result"
    }
   ],
   "source": [
    "# Variable seller\n",
    "cars['seller'].value_counts()\n",
    "pd.crosstab(cars['seller'],columns='count',normalize = True)\n",
    "# sns.countplot(x='seller',data=cars)"
   ]
  },
  {
   "cell_type": "markdown",
   "id": "1db36d6e",
   "metadata": {},
   "source": [
    "The seller variable has two categries private and commercial, but commertial has ony one observation so we are going to drop it\n",
    "\n",
    "Fewer cars have 'commercial' .==> Insignificant"
   ]
  },
  {
   "cell_type": "code",
   "execution_count": 34,
   "id": "c9dc3a6b",
   "metadata": {},
   "outputs": [
    {
     "data": {
      "text/html": [
       "<div>\n",
       "<style scoped>\n",
       "    .dataframe tbody tr th:only-of-type {\n",
       "        vertical-align: middle;\n",
       "    }\n",
       "\n",
       "    .dataframe tbody tr th {\n",
       "        vertical-align: top;\n",
       "    }\n",
       "\n",
       "    .dataframe thead th {\n",
       "        text-align: right;\n",
       "    }\n",
       "</style>\n",
       "<table border=\"1\" class=\"dataframe\">\n",
       "  <thead>\n",
       "    <tr style=\"text-align: right;\">\n",
       "      <th>col_0</th>\n",
       "      <th>count</th>\n",
       "    </tr>\n",
       "    <tr>\n",
       "      <th>offerType</th>\n",
       "      <th></th>\n",
       "    </tr>\n",
       "  </thead>\n",
       "  <tbody>\n",
       "    <tr>\n",
       "      <th>offer</th>\n",
       "      <td>1.000</td>\n",
       "    </tr>\n",
       "  </tbody>\n",
       "</table>\n",
       "</div>"
      ],
      "text/plain": [
       "col_0      count\n",
       "offerType       \n",
       "offer      1.000"
      ]
     },
     "execution_count": 34,
     "metadata": {},
     "output_type": "execute_result"
    }
   ],
   "source": [
    "# Variable offertype\n",
    "\n",
    "cars['offerType'].value_counts()\n",
    "pd.crosstab(cars['offerType'],columns='count',normalize = True)\n",
    "# sns.countplot(x='offerType',data=cars)"
   ]
  },
  {
   "cell_type": "markdown",
   "id": "01ddb188",
   "metadata": {},
   "source": [
    "All cars have offer. ==> insignificant"
   ]
  },
  {
   "cell_type": "code",
   "execution_count": 35,
   "id": "8d3bb2a0",
   "metadata": {},
   "outputs": [
    {
     "data": {
      "text/html": [
       "<div>\n",
       "<style scoped>\n",
       "    .dataframe tbody tr th:only-of-type {\n",
       "        vertical-align: middle;\n",
       "    }\n",
       "\n",
       "    .dataframe tbody tr th {\n",
       "        vertical-align: top;\n",
       "    }\n",
       "\n",
       "    .dataframe thead th {\n",
       "        text-align: right;\n",
       "    }\n",
       "</style>\n",
       "<table border=\"1\" class=\"dataframe\">\n",
       "  <thead>\n",
       "    <tr style=\"text-align: right;\">\n",
       "      <th>col_0</th>\n",
       "      <th>count</th>\n",
       "    </tr>\n",
       "    <tr>\n",
       "      <th>abtest</th>\n",
       "      <th></th>\n",
       "    </tr>\n",
       "  </thead>\n",
       "  <tbody>\n",
       "    <tr>\n",
       "      <th>control</th>\n",
       "      <td>0.483</td>\n",
       "    </tr>\n",
       "    <tr>\n",
       "      <th>test</th>\n",
       "      <td>0.517</td>\n",
       "    </tr>\n",
       "  </tbody>\n",
       "</table>\n",
       "</div>"
      ],
      "text/plain": [
       "col_0    count\n",
       "abtest        \n",
       "control  0.483\n",
       "test     0.517"
      ]
     },
     "execution_count": 35,
     "metadata": {},
     "output_type": "execute_result"
    }
   ],
   "source": [
    "# Variable abtest\n",
    "\n",
    "cars['abtest'].value_counts()\n",
    "pd.crosstab(cars['abtest'],columns='count',normalize = True)\n",
    "# sns.countplot(x='abtest',data=cars)"
   ]
  },
  {
   "cell_type": "markdown",
   "id": "b0673d06",
   "metadata": {},
   "source": [
    "There is almost equal split between the categorize test and control. Roughly 51% is under test and 48% is under control"
   ]
  },
  {
   "cell_type": "code",
   "execution_count": 36,
   "id": "f2b45861",
   "metadata": {
    "collapsed": true
   },
   "outputs": [
    {
     "data": {
      "text/plain": [
       "<AxesSubplot:xlabel='abtest', ylabel='price'>"
      ]
     },
     "execution_count": 36,
     "metadata": {},
     "output_type": "execute_result"
    },
    {
     "data": {
      "image/png": "[encoded data removed]",
      "text/plain": [
       "<Figure size 842.4x595.44 with 1 Axes>"
      ]
     },
     "metadata": {},
     "output_type": "display_data"
    }
   ],
   "source": [
    "sns.boxplot(x='abtest',y='price',data=cars)"
   ]
  },
  {
   "cell_type": "markdown",
   "id": "d57754b9",
   "metadata": {},
   "source": [
    "Seeing effect on price. So even in boxplot the effects seems to be more or less the same. We can't really infer anything\n",
    "\n",
    "For every price value ther is almost 50-50 distribution\n",
    "\n",
    "Does not affect price ==> Insignificant"
   ]
  },
  {
   "cell_type": "code",
   "execution_count": 37,
   "id": "e8140271",
   "metadata": {
    "scrolled": true
   },
   "outputs": [
    {
     "data": {
      "text/plain": [
       "limousine        11746\n",
       "small car         9285\n",
       "station wagon     8076\n",
       "bus               3597\n",
       "cabrio            2792\n",
       "coupe             2261\n",
       "suv               1813\n",
       "others             326\n",
       "Name: vehicleType, dtype: int64"
      ]
     },
     "execution_count": 37,
     "metadata": {},
     "output_type": "execute_result"
    }
   ],
   "source": [
    "# Variable vehicleType\n",
    "\n",
    "cars['vehicleType'].value_counts()\n",
    "# pd.crosstab(cars['vehicleType'],columns='count',normalize = True)\n",
    "# sns.countplot(x='vehicleType',data=cars)"
   ]
  },
  {
   "cell_type": "markdown",
   "id": "808e8cac",
   "metadata": {},
   "source": [
    "Limouse is highest with 29%. Limouse is countributing the most followed by small car, station wagon, bus. "
   ]
  },
  {
   "cell_type": "code",
   "execution_count": 38,
   "id": "6b2daa92",
   "metadata": {
    "collapsed": true
   },
   "outputs": [
    {
     "data": {
      "text/plain": [
       "<AxesSubplot:xlabel='vehicleType', ylabel='price'>"
      ]
     },
     "execution_count": 38,
     "metadata": {},
     "output_type": "execute_result"
    },
    {
     "data": {
      "image/png": "[encoded data removed]",
      "text/plain": [
       "<Figure size 842.4x595.44 with 1 Axes>"
      ]
     },
     "metadata": {},
     "output_type": "display_data"
    }
   ],
   "source": [
    "sns.boxplot(x='vehicleType',y='price',data=cars)"
   ]
  },
  {
   "cell_type": "markdown",
   "id": "17a26ae4",
   "metadata": {},
   "source": [
    "For different categories there are differnt price ranges. Vehicle type does effect price and we are going to retain it in our model\n",
    "\n",
    "There 8 types - (Limouse,small car, station wagon) have the max freq"
   ]
  },
  {
   "cell_type": "code",
   "execution_count": 39,
   "id": "6ce9ff44",
   "metadata": {
    "collapsed": true
   },
   "outputs": [
    {
     "data": {
      "text/plain": [
       "<AxesSubplot:xlabel='gearbox', ylabel='price'>"
      ]
     },
     "execution_count": 39,
     "metadata": {},
     "output_type": "execute_result"
    },
    {
     "data": {
      "image/png": "[encoded data removed]",
      "text/plain": [
       "<Figure size 842.4x595.44 with 1 Axes>"
      ]
     },
     "metadata": {},
     "output_type": "display_data"
    }
   ],
   "source": [
    "# Variable gearbox\n",
    "\n",
    "cars['gearbox'].value_counts()\n",
    "# pd.crosstab(cars['vehicleType'],columns='count',normalize = True)\n",
    "# sns.countplot(x='vehicleType',data=cars)\n",
    "sns.boxplot(x='gearbox',y = 'price',data=cars)"
   ]
  },
  {
   "cell_type": "markdown",
   "id": "6509ce9b",
   "metadata": {},
   "source": [
    "Gearbox affects price. Because manual is price lower than automatic and thats evident from the boxplot itself"
   ]
  },
  {
   "cell_type": "code",
   "execution_count": 40,
   "id": "bd2f2e81",
   "metadata": {
    "collapsed": true
   },
   "outputs": [
    {
     "data": {
      "text/plain": [
       "<AxesSubplot:xlabel='model', ylabel='price'>"
      ]
     },
     "execution_count": 40,
     "metadata": {},
     "output_type": "execute_result"
    },
    {
     "data": {
      "image/png": "[encoded data removed]",
      "text/plain": [
       "<Figure size 842.4x595.44 with 1 Axes>"
      ]
     },
     "metadata": {},
     "output_type": "display_data"
    }
   ],
   "source": [
    "# Variable model\n",
    "cars['model'].value_counts()\n",
    "pd.crosstab(cars['model'],columns='count',normalize = True)\n",
    "sns.countplot(x='model',data=cars)\n",
    "sns.boxplot(x='model',y = 'price',data=cars)"
   ]
  },
  {
   "cell_type": "markdown",
   "id": "10ede5b1",
   "metadata": {},
   "source": [
    "Cars are distributed over many models.\n",
    "\n",
    "Considered in modelling"
   ]
  },
  {
   "cell_type": "code",
   "execution_count": 41,
   "id": "c06f8f38",
   "metadata": {
    "collapsed": true
   },
   "outputs": [
    {
     "data": {
      "text/plain": [
       "<AxesSubplot:xlabel='kilometer', ylabel='price'>"
      ]
     },
     "execution_count": 41,
     "metadata": {},
     "output_type": "execute_result"
    },
    {
     "data": {
      "image/png": "[encoded data removed]",
      "text/plain": [
       "<Figure size 842.4x595.44 with 1 Axes>"
      ]
     },
     "metadata": {},
     "output_type": "display_data"
    }
   ],
   "source": [
    "# Variable kilometer\n",
    "\n",
    "cars['kilometer'].value_counts()\n",
    "pd.crosstab(cars['kilometer'],columns='count',normalize = True)\n",
    "sns.countplot(x='kilometer',data=cars)\n",
    "sns.boxplot(x='kilometer',y = 'price',data=cars)"
   ]
  },
  {
   "cell_type": "markdown",
   "id": "dd16c39b",
   "metadata": {},
   "source": [
    "Different kilometer affects the price in different way.Cars that has travelled lower kilometer like 10000 and 20000 are sold for much higher price. Whereas car which have travelled lot of kilometer their price drops.Except for the 5000km where the price is less\n",
    "\n",
    "Considered in modelling"
   ]
  },
  {
   "cell_type": "code",
   "execution_count": 42,
   "id": "5115a3d7",
   "metadata": {
    "collapsed": true
   },
   "outputs": [
    {
     "data": {
      "text/plain": [
       "<AxesSubplot:xlabel='fuelType', ylabel='price'>"
      ]
     },
     "execution_count": 42,
     "metadata": {},
     "output_type": "execute_result"
    },
    {
     "data": {
      "image/png": "[encoded data removed]",
      "text/plain": [
       "<Figure size 842.4x595.44 with 1 Axes>"
      ]
     },
     "metadata": {},
     "output_type": "display_data"
    }
   ],
   "source": [
    "# Variable fuelType\n",
    "cars['fuelType'].value_counts()\n",
    "pd.crosstab(cars['fuelType'],columns='count',normalize = True)\n",
    "sns.countplot(x='fuelType',data=cars)\n",
    "sns.boxplot(x='fuelType',y = 'price',data=cars)"
   ]
  },
  {
   "cell_type": "markdown",
   "id": "c1f1be07",
   "metadata": {},
   "source": [
    "Petrol is contributing the maximum followed by diesel and LPG.\n",
    "\n",
    "fuelType affects price"
   ]
  },
  {
   "cell_type": "code",
   "execution_count": 43,
   "id": "87fa08d8",
   "metadata": {
    "collapsed": true
   },
   "outputs": [
    {
     "data": {
      "text/plain": [
       "<AxesSubplot:xlabel='brand', ylabel='count'>"
      ]
     },
     "execution_count": 43,
     "metadata": {},
     "output_type": "execute_result"
    },
    {
     "data": {
      "image/png": "[encoded data removed]",
      "text/plain": [
       "<Figure size 842.4x595.44 with 1 Axes>"
      ]
     },
     "metadata": {},
     "output_type": "display_data"
    }
   ],
   "source": [
    "# Variable brand\n",
    "\n",
    "cars['brand'].value_counts()\n",
    "pd.crosstab(cars['brand'],columns='count',normalize = True)\n",
    "sns.countplot(x='brand',data=cars)\n",
    "# sns.boxplot(x='brand',y = 'price',data=cars)"
   ]
  },
  {
   "cell_type": "markdown",
   "id": "3aba5c88",
   "metadata": {},
   "source": [
    "Cars are distributed over many models\n",
    "\n",
    "Considered for modelling"
   ]
  },
  {
   "cell_type": "code",
   "execution_count": 44,
   "id": "9bde8e3b",
   "metadata": {
    "collapsed": true
   },
   "outputs": [
    {
     "data": {
      "text/plain": [
       "<AxesSubplot:xlabel='notRepairedDamage', ylabel='count'>"
      ]
     },
     "execution_count": 44,
     "metadata": {},
     "output_type": "execute_result"
    },
    {
     "data": {
      "image/png": "[encoded data removed]",
      "text/plain": [
       "<Figure size 842.4x595.44 with 1 Axes>"
      ]
     },
     "metadata": {},
     "output_type": "display_data"
    }
   ],
   "source": [
    "# Variable notRepairedDamage\n",
    "# yes - car is damaged but not rectified\n",
    "# noCar - car was damaged but has been rectified\n",
    "\n",
    "cars['notRepairedDamage'].value_counts()\n",
    "pd.crosstab(cars['notRepairedDamage'],columns='count',normalize = True)\n",
    "sns.countplot(x='notRepairedDamage',data=cars)\n",
    "# sns.boxplot(x='brand',y = 'price',data=cars)"
   ]
  },
  {
   "cell_type": "markdown",
   "id": "a3ec27c1",
   "metadata": {},
   "source": [
    "Cars where the damaged has not been looked after are being sold for the lower price range compare to the cars where the damage has been rectified"
   ]
  },
  {
   "cell_type": "code",
   "execution_count": 45,
   "id": "f9eb2df5",
   "metadata": {},
   "outputs": [
    {
     "data": {
      "text/plain": [
       "(42772, 10)"
      ]
     },
     "execution_count": 45,
     "metadata": {},
     "output_type": "execute_result"
    }
   ],
   "source": [
    "# Removing insignificant variables\n",
    "\n",
    "col = ['seller','offerType','abtest']\n",
    "cars = cars.drop(columns=col, axis = 1)\n",
    "cars_copy = cars.copy()\n",
    "cars_copy.shape"
   ]
  },
  {
   "cell_type": "code",
   "execution_count": 46,
   "id": "778a4e15",
   "metadata": {},
   "outputs": [
    {
     "data": {
      "text/plain": [
       "(42772, 10)"
      ]
     },
     "execution_count": 46,
     "metadata": {},
     "output_type": "execute_result"
    }
   ],
   "source": [
    "cars_copy.shape"
   ]
  },
  {
   "cell_type": "code",
   "execution_count": 47,
   "id": "b5ddea34",
   "metadata": {},
   "outputs": [
    {
     "data": {
      "text/plain": [
       "powerPS     0.575\n",
       "kilometer   0.440\n",
       "Age         0.336\n",
       "Name: price, dtype: float64"
      ]
     },
     "execution_count": 47,
     "metadata": {},
     "output_type": "execute_result"
    }
   ],
   "source": [
    "# Correlation in numerical variables\n",
    "\n",
    "cars_select1 = cars.select_dtypes(exclude=[object])\n",
    "correlation = cars_select1.corr()\n",
    "round(correlation,3)\n",
    "cars_select1.corr().loc[:,'price'].abs().sort_values(ascending=False)[1:]"
   ]
  },
  {
   "cell_type": "markdown",
   "id": "80b4e615",
   "metadata": {},
   "source": [
    "Except for powerPS the other two variable do not have the heavy influence on price. Even the powerPS is not strongly correlated to price"
   ]
  },
  {
   "cell_type": "markdown",
   "id": "1c15c2e0",
   "metadata": {},
   "source": [
    "*We are goind to build a Linear Regression and Random Forest Model on two sets of data.*\n",
    "1. Data obtained by omitting rows with any missing value\n",
    "2. Data obtained by imputing the missing values"
   ]
  },
  {
   "cell_type": "code",
   "execution_count": 48,
   "id": "d660b2bd",
   "metadata": {},
   "outputs": [],
   "source": [
    "# OMITTING MISSING VALUE\n",
    "cars_omit = cars.dropna(axis=0)"
   ]
  },
  {
   "cell_type": "code",
   "execution_count": 49,
   "id": "c2a66f46",
   "metadata": {},
   "outputs": [
    {
     "data": {
      "text/plain": [
       "(42772, 10)"
      ]
     },
     "execution_count": 49,
     "metadata": {},
     "output_type": "execute_result"
    }
   ],
   "source": [
    "cars.shape"
   ]
  },
  {
   "cell_type": "code",
   "execution_count": 50,
   "id": "2090426d",
   "metadata": {},
   "outputs": [
    {
     "data": {
      "text/plain": [
       "(32884, 10)"
      ]
     },
     "execution_count": 50,
     "metadata": {},
     "output_type": "execute_result"
    }
   ],
   "source": [
    "cars_omit.shape"
   ]
  },
  {
   "cell_type": "markdown",
   "id": "ac688e92",
   "metadata": {},
   "source": [
    "So, by omitting the missing values we dropped around (42772-32884) =9888 .approx 10000 observations"
   ]
  },
  {
   "cell_type": "code",
   "execution_count": 51,
   "id": "87c59ea6",
   "metadata": {},
   "outputs": [],
   "source": [
    "# Converting categorical variavle to dummy variable\n",
    "cars_omit = pd.get_dummies(cars_omit, drop_first = True)"
   ]
  },
  {
   "cell_type": "markdown",
   "id": "9a3a7a88",
   "metadata": {},
   "source": [
    "We have column that are categorical in nature for instance vehicleType, gearbox, model. The values under these columns are string in nature and none of the ML algorithms under scikit learn except columns which are string in nature. So, we dummy encode these categorical columns and we generate newer column out of it. For fueltype we have 4 catogories so we generate (4-1) columns. Te value under each of thes column will be '0'(not present) or '1'(present)"
   ]
  },
  {
   "cell_type": "code",
   "execution_count": 52,
   "id": "d5e00a08",
   "metadata": {},
   "outputs": [
    {
     "data": {
      "text/plain": [
       "(32884, 301)"
      ]
     },
     "execution_count": 52,
     "metadata": {},
     "output_type": "execute_result"
    }
   ],
   "source": [
    "cars_omit.shape"
   ]
  },
  {
   "cell_type": "markdown",
   "id": "00548119",
   "metadata": {},
   "source": [
    "We started with 10 and now has 301 columns. Because we have several categories under each column."
   ]
  },
  {
   "cell_type": "code",
   "execution_count": 53,
   "id": "8ae6e301",
   "metadata": {},
   "outputs": [],
   "source": [
    "# Importing the necessary library\n",
    "\n",
    "from sklearn.model_selection import train_test_split\n",
    "from sklearn.linear_model import LinearRegression\n",
    "from sklearn.ensemble import RandomForestRegressor\n",
    "from sklearn.metrics import mean_squared_error"
   ]
  },
  {
   "cell_type": "code",
   "execution_count": 54,
   "id": "7f736b99",
   "metadata": {},
   "outputs": [],
   "source": [
    "# modelled building with omitted data"
   ]
  },
  {
   "cell_type": "code",
   "execution_count": 55,
   "id": "22ded751",
   "metadata": {},
   "outputs": [],
   "source": [
    "# Seperating input and output features\n",
    "x1 = cars_omit.drop(['price'],axis='columns',inplace=False)\n",
    "y1 = cars_omit['price']"
   ]
  },
  {
   "cell_type": "code",
   "execution_count": 56,
   "id": "e8aac315",
   "metadata": {
    "collapsed": true
   },
   "outputs": [
    {
     "data": {
      "text/plain": [
       "array([[<AxesSubplot:title={'center':'1. Before'}>,\n",
       "        <AxesSubplot:title={'center':'2. After'}>]], dtype=object)"
      ]
     },
     "execution_count": 56,
     "metadata": {},
     "output_type": "execute_result"
    },
    {
     "data": {
      "image/png": "[encoded data removed]",
      "text/plain": [
       "<Figure size 842.4x595.44 with 2 Axes>"
      ]
     },
     "metadata": {},
     "output_type": "display_data"
    }
   ],
   "source": [
    "# Plotting the variable price\n",
    "prices = pd.DataFrame({'1. Before':y1,'2. After': np.log(y1)})\n",
    "prices.hist()"
   ]
  },
  {
   "cell_type": "markdown",
   "id": "75680ed0",
   "metadata": {},
   "source": [
    "We get a nice bell-shaped curve when we convert y to log(y). In left we have plot just the price and on the right we have plot logarithmic of price. We are going to use log of price as input features"
   ]
  },
  {
   "cell_type": "code",
   "execution_count": 57,
   "id": "8a969814",
   "metadata": {},
   "outputs": [],
   "source": [
    "y1 = np.log(y1)"
   ]
  },
  {
   "cell_type": "markdown",
   "id": "eb20bade",
   "metadata": {},
   "source": [
    "y1 is transformed because the range of price is very huge to avoid this we take the log"
   ]
  },
  {
   "cell_type": "code",
   "execution_count": 58,
   "id": "9ec95999",
   "metadata": {},
   "outputs": [
    {
     "name": "stdout",
     "output_type": "stream",
     "text": [
      "(23018, 300) (9866, 300) (23018,) (9866,)\n"
     ]
    }
   ],
   "source": [
    "# Splitting the data into test and train \n",
    "\n",
    "X_train, X_test, y_train, y_test = train_test_split(x1, y1, test_size = 0.3, random_state = 3)\n",
    "print(X_train.shape, X_test.shape, y_train.shape, y_test.shape)"
   ]
  },
  {
   "cell_type": "code",
   "execution_count": 59,
   "id": "ce0de76f",
   "metadata": {},
   "outputs": [
    {
     "name": "stdout",
     "output_type": "stream",
     "text": [
      "0.6999756720593602\n"
     ]
    },
    {
     "data": {
      "text/plain": [
       "0.3000243279406398"
      ]
     },
     "execution_count": 59,
     "metadata": {},
     "output_type": "execute_result"
    }
   ],
   "source": [
    "print(23018/32884)\n",
    "(9866/32884 )   \n",
    "\n",
    "# We can infer the test train split ratio based on the no. of obs."
   ]
  },
  {
   "cell_type": "code",
   "execution_count": 60,
   "id": "f6711004",
   "metadata": {},
   "outputs": [],
   "source": [
    "# baseline model for predicted data"
   ]
  },
  {
   "cell_type": "markdown",
   "id": "17fe58e1",
   "metadata": {},
   "source": [
    "We are making a base model by using test data mean value. This to set a benchmark and to compare with our regression model"
   ]
  },
  {
   "cell_type": "code",
   "execution_count": 61,
   "id": "de8b4114",
   "metadata": {},
   "outputs": [
    {
     "data": {
      "text/plain": [
       "8.249615787653337"
      ]
     },
     "execution_count": 61,
     "metadata": {},
     "output_type": "execute_result"
    }
   ],
   "source": [
    "# Finding the mean for test data value\n",
    "base_pred = np.mean(y_test)\n",
    "base_pred"
   ]
  },
  {
   "cell_type": "code",
   "execution_count": 62,
   "id": "11b0d1a2",
   "metadata": {},
   "outputs": [],
   "source": [
    "# Repeating same value till length of test data\n",
    "base_pred = np.repeat(base_pred,len(y_test))"
   ]
  },
  {
   "cell_type": "code",
   "execution_count": 63,
   "id": "3b642750",
   "metadata": {},
   "outputs": [
    {
     "name": "stdout",
     "output_type": "stream",
     "text": [
      "1.1274483657478247\n"
     ]
    }
   ],
   "source": [
    "# Finding the RMSE( root mean square error)\n",
    "base_root_mean_square_error = np.sqrt(mean_squared_error(y_test, base_pred))\n",
    "print(base_root_mean_square_error)"
   ]
  },
  {
   "cell_type": "markdown",
   "id": "1850f3e5",
   "metadata": {},
   "source": [
    "RMSE(root mean square error) its the sq. root of the mean squared error. It computes the differemce between rhe test value and the predicted value, square them and divide them by no.of sample i.e mean squared error"
   ]
  },
  {
   "cell_type": "code",
   "execution_count": 64,
   "id": "bb003d1b",
   "metadata": {},
   "outputs": [],
   "source": [
    "## Linear Regression with omitted data\n",
    "\n",
    "# Splitting the intercept as true\n",
    "lgr = LinearRegression(fit_intercept = True)"
   ]
  },
  {
   "cell_type": "code",
   "execution_count": 65,
   "id": "c6a7a0d8",
   "metadata": {},
   "outputs": [],
   "source": [
    "# Model\n",
    "model_lin1 = lgr.fit(X_train,y_train)"
   ]
  },
  {
   "cell_type": "code",
   "execution_count": 66,
   "id": "5a5c942a",
   "metadata": {},
   "outputs": [],
   "source": [
    "# Predicting model on test set\n",
    "cars_prediction_lin1 = lgr.predict(X_test)"
   ]
  },
  {
   "cell_type": "code",
   "execution_count": 67,
   "id": "37e0f089",
   "metadata": {},
   "outputs": [
    {
     "name": "stdout",
     "output_type": "stream",
     "text": [
      "0.5455481266513836\n"
     ]
    }
   ],
   "source": [
    "# Compute MSE and RMSE\n",
    "lin_mse1 = mean_squared_error(y_test, cars_prediction_lin1)\n",
    "lin_rmse1 = np.sqrt(lin_mse1)\n",
    "print(lin_rmse1)"
   ]
  },
  {
   "cell_type": "code",
   "execution_count": 68,
   "id": "0bd00918",
   "metadata": {},
   "outputs": [
    {
     "name": "stdout",
     "output_type": "stream",
     "text": [
      "0.7658615091649247 0.7800936978183916\n"
     ]
    }
   ],
   "source": [
    "# R squared value\n",
    "r2_lin_test1 = model_lin1.score(X_test,y_test)\n",
    "r2_lin_train1 = model_lin1.score(X_train,y_train)\n",
    "print(r2_lin_test1,r2_lin_train1)"
   ]
  },
  {
   "cell_type": "markdown",
   "id": "c590df0a",
   "metadata": {},
   "source": [
    "R square value - tells how good our model is able to explain the variabiity in 'y'\n",
    "1. Train set rsq. is 0.780\n",
    "2. Test set rsq is 0.7658\n",
    "\n",
    "Train set seems to definitely better and the test is not far behind. It's a close cut. So this tells us that the model is good. The train and test almost compute the same variability"
   ]
  },
  {
   "cell_type": "code",
   "execution_count": 69,
   "id": "9229fcd5",
   "metadata": {
    "scrolled": true
   },
   "outputs": [
    {
     "data": {
      "text/plain": [
       "count   9866.000\n",
       "mean       0.003\n",
       "std        0.546\n",
       "min       -5.796\n",
       "25%       -0.261\n",
       "50%        0.041\n",
       "75%        0.302\n",
       "max        4.547\n",
       "Name: price, dtype: float64"
      ]
     },
     "execution_count": 69,
     "metadata": {},
     "output_type": "execute_result"
    },
    {
     "data": {
      "image/png": "[encoded data removed]",
      "text/plain": [
       "<Figure size 842.4x595.44 with 1 Axes>"
      ]
     },
     "metadata": {},
     "output_type": "display_data"
    }
   ],
   "source": [
    "# Regression diagnostics - Resdual plot analysis\n",
    "residuals1 = y_test-cars_prediction_lin1\n",
    "sns.regplot(x=cars_prediction_lin1, y=residuals1, scatter = True, fit_reg =False, data = cars)\n",
    "residuals1.describe()"
   ]
  },
  {
   "cell_type": "markdown",
   "id": "a767bca8",
   "metadata": {},
   "source": [
    "We wanted the residuals to be close to zero. Since residuals are more of errors we want error to be less and that tells that our predicted and actual values are very very closer. We can alse see this by decribe function , mean of the data is around 0.003 that is vary approx 0 and this itself is a good indicator that our predicted and the actual value is very very close"
   ]
  },
  {
   "cell_type": "markdown",
   "id": "9d8d1f6a",
   "metadata": {},
   "source": [
    "#### Random Forest with Omitted data"
   ]
  },
  {
   "cell_type": "code",
   "execution_count": 70,
   "id": "f389bf60",
   "metadata": {},
   "outputs": [],
   "source": [
    "# Model Parameters\n",
    "rf = RandomForestRegressor(n_estimators = 100, max_features ='auto',\n",
    "                           max_depth = 100, min_samples_split = 10,min_samples_leaf = 4, random_state=1)"
   ]
  },
  {
   "cell_type": "raw",
   "id": "7613cb9f",
   "metadata": {},
   "source": [
    "n_estimators - tells no. of trees in our forest\n",
    "max_features - the no. features the algorithm wants to consider to build the tree\n",
    "max_depth - how deep we want each tree to grow\n",
    "min_samples_split - min samples required for the node to split\n",
    "min_samples_leaf - min samples to be present in the leaf node\n",
    "random_state - everytime we run the model we get the same output"
   ]
  },
  {
   "cell_type": "code",
   "execution_count": 71,
   "id": "562d5d12",
   "metadata": {},
   "outputs": [],
   "source": [
    "# Model \n",
    "model_rf1 = rf.fit(X_train,y_train)"
   ]
  },
  {
   "cell_type": "code",
   "execution_count": 72,
   "id": "8fbe2020",
   "metadata": {},
   "outputs": [],
   "source": [
    "# Predicting model on test set\n",
    "cars_predictions_rf1 = rf.predict(X_test)"
   ]
  },
  {
   "cell_type": "code",
   "execution_count": 73,
   "id": "e0f3a103",
   "metadata": {},
   "outputs": [
    {
     "name": "stdout",
     "output_type": "stream",
     "text": [
      "0.19016020985430382 0.4360736289370223\n"
     ]
    }
   ],
   "source": [
    "# Computing MSE and RMSE\n",
    "rf_mse1 = mean_squared_error(y_test, cars_predictions_rf1)\n",
    "rf_rmse1 = np.sqrt(rf_mse1)\n",
    "print(rf_mse1,rf_rmse1)"
   ]
  },
  {
   "cell_type": "markdown",
   "id": "0dd855c0",
   "metadata": {},
   "source": [
    "Random Forest is performing better than linear regression model because the RMSE has come dowm further"
   ]
  },
  {
   "cell_type": "code",
   "execution_count": 74,
   "id": "58c3aa04",
   "metadata": {},
   "outputs": [
    {
     "name": "stdout",
     "output_type": "stream",
     "text": [
      "0.8504018147750623 0.9202494705146291\n"
     ]
    }
   ],
   "source": [
    "# R squared value\n",
    "r2_rf_test1 = model_rf1.score(X_test,y_test)\n",
    "r2_rf_train1 = model_rf1.score(X_train,y_train)\n",
    "print(r2_rf_test1,r2_rf_train1)"
   ]
  },
  {
   "cell_type": "markdown",
   "id": "b2632703",
   "metadata": {},
   "source": [
    "Random Foest model is working a lot better compared to the linear regression model atleast for the omitted data"
   ]
  },
  {
   "cell_type": "code",
   "execution_count": 75,
   "id": "505f72d7",
   "metadata": {},
   "outputs": [],
   "source": [
    "# Modeled building with imputed data\n",
    "\n",
    "cars_imputed = cars.apply(lambda x:x.fillna(x.median())\n",
    "                         if x.dtype == 'float' else\n",
    "                         x.fillna(x.value_counts().index[0]))"
   ]
  },
  {
   "cell_type": "code",
   "execution_count": 76,
   "id": "691494f8",
   "metadata": {},
   "outputs": [
    {
     "data": {
      "text/plain": [
       "price                0\n",
       "vehicleType          0\n",
       "gearbox              0\n",
       "powerPS              0\n",
       "model                0\n",
       "kilometer            0\n",
       "fuelType             0\n",
       "brand                0\n",
       "notRepairedDamage    0\n",
       "Age                  0\n",
       "dtype: int64"
      ]
     },
     "execution_count": 76,
     "metadata": {},
     "output_type": "execute_result"
    }
   ],
   "source": [
    "cars_imputed.isnull().sum()"
   ]
  },
  {
   "cell_type": "code",
   "execution_count": 77,
   "id": "b4cbe4b2",
   "metadata": {},
   "outputs": [],
   "source": [
    "# Converting categorical variable to dummy variables\n",
    "cars_imputed = pd.get_dummies(cars_imputed,drop_first = True)"
   ]
  },
  {
   "cell_type": "code",
   "execution_count": 78,
   "id": "795ebde0",
   "metadata": {
    "scrolled": true
   },
   "outputs": [
    {
     "data": {
      "text/plain": [
       "(42772, 304)"
      ]
     },
     "execution_count": 78,
     "metadata": {},
     "output_type": "execute_result"
    }
   ],
   "source": [
    "cars_imputed.shape"
   ]
  },
  {
   "cell_type": "code",
   "execution_count": 79,
   "id": "45d7ed2b",
   "metadata": {},
   "outputs": [],
   "source": [
    "# Modeled building with imputed data"
   ]
  },
  {
   "cell_type": "code",
   "execution_count": 80,
   "id": "0a6d0e72",
   "metadata": {},
   "outputs": [],
   "source": [
    "# Seperating input and output features\n",
    "x2 = cars_omit.drop(['price'],axis='columns',inplace=False)\n",
    "y2 = cars_omit['price']"
   ]
  },
  {
   "cell_type": "code",
   "execution_count": 81,
   "id": "3fab1484",
   "metadata": {
    "collapsed": true
   },
   "outputs": [
    {
     "data": {
      "text/plain": [
       "array([[<AxesSubplot:title={'center':'1. Before'}>,\n",
       "        <AxesSubplot:title={'center':'2. After'}>]], dtype=object)"
      ]
     },
     "execution_count": 81,
     "metadata": {},
     "output_type": "execute_result"
    },
    {
     "data": {
      "image/png": "[encoded data removed]",
      "text/plain": [
       "<Figure size 842.4x595.44 with 2 Axes>"
      ]
     },
     "metadata": {},
     "output_type": "display_data"
    }
   ],
   "source": [
    "# Plotting the variable price\n",
    "prices = pd.DataFrame({'1. Before':y2,'2. After': np.log(y2)})\n",
    "prices.hist()"
   ]
  },
  {
   "cell_type": "markdown",
   "id": "67003f3a",
   "metadata": {},
   "source": [
    "Again value of price is normally distributed same. All are predictions are goin to be for the log transformed value of prive"
   ]
  },
  {
   "cell_type": "code",
   "execution_count": 82,
   "id": "f6a58c54",
   "metadata": {},
   "outputs": [],
   "source": [
    "# Transforming price as a logarithmic value\n",
    "y2 = np.log(y2)"
   ]
  },
  {
   "cell_type": "code",
   "execution_count": 83,
   "id": "b7414dec",
   "metadata": {},
   "outputs": [
    {
     "name": "stdout",
     "output_type": "stream",
     "text": [
      "(23018, 300) (9866, 300) (23018,) (9866,)\n"
     ]
    }
   ],
   "source": [
    "# Splitting the data into test and train \n",
    "\n",
    "X_train1, X_test1, y_train1, y_test1 = train_test_split(x2, y2, test_size = 0.3, random_state = 3)\n",
    "print(X_train1.shape, X_test1.shape, y_train1.shape, y_test1.shape)"
   ]
  },
  {
   "cell_type": "code",
   "execution_count": 84,
   "id": "e3605bda",
   "metadata": {},
   "outputs": [],
   "source": [
    "# baseline model for predicted data"
   ]
  },
  {
   "cell_type": "markdown",
   "id": "62e088cf",
   "metadata": {},
   "source": [
    "We are making a base model by using test data mean value. this to set a benchmark and to compare with our regression model"
   ]
  },
  {
   "cell_type": "code",
   "execution_count": 85,
   "id": "8a7bc596",
   "metadata": {},
   "outputs": [
    {
     "data": {
      "text/plain": [
       "8.249615787653337"
      ]
     },
     "execution_count": 85,
     "metadata": {},
     "output_type": "execute_result"
    }
   ],
   "source": [
    "# Finding the mean for test data value\n",
    "base_pred = np.mean(y_test1)\n",
    "base_pred"
   ]
  },
  {
   "cell_type": "code",
   "execution_count": 86,
   "id": "c93833c4",
   "metadata": {},
   "outputs": [],
   "source": [
    "# Repeating same value till length of test data\n",
    "base_pred = np.repeat(base_pred,len(y_test1))"
   ]
  },
  {
   "cell_type": "code",
   "execution_count": 99,
   "id": "576e7f75",
   "metadata": {},
   "outputs": [
    {
     "name": "stdout",
     "output_type": "stream",
     "text": [
      "1.1274483657478247\n"
     ]
    }
   ],
   "source": [
    "# Finding the RMSE( root mean square error)\n",
    "base_root_mean_square_error1 = np.sqrt(mean_squared_error(y_test1, base_pred))\n",
    "print(base_root_mean_square_error1)"
   ]
  },
  {
   "cell_type": "markdown",
   "id": "ab5a5c8e",
   "metadata": {},
   "source": [
    "###### Linear Regression with imputed model "
   ]
  },
  {
   "cell_type": "code",
   "execution_count": 88,
   "id": "11d3d525",
   "metadata": {},
   "outputs": [],
   "source": [
    "# Setting intercept as true\n",
    "lgr2 = LinearRegression(fit_intercept = True)"
   ]
  },
  {
   "cell_type": "code",
   "execution_count": 89,
   "id": "4ae8308d",
   "metadata": {},
   "outputs": [],
   "source": [
    "# Model\n",
    "model_lin2 = lgr2.fit(X_train1,y_train1)"
   ]
  },
  {
   "cell_type": "code",
   "execution_count": 90,
   "id": "1f5ae83b",
   "metadata": {},
   "outputs": [],
   "source": [
    "# Predicting the model on the test set\n",
    "cars_prediction_lin2 = lgr2.predict(X_test1)"
   ]
  },
  {
   "cell_type": "code",
   "execution_count": 91,
   "id": "597b55f7",
   "metadata": {},
   "outputs": [
    {
     "name": "stdout",
     "output_type": "stream",
     "text": [
      "0.5455481266513836\n"
     ]
    }
   ],
   "source": [
    "# Compute MSE and RMSE\n",
    "lin_mse2 = mean_squared_error(y_test1, cars_prediction_lin2)\n",
    "lin_rmse2 = np.sqrt(lin_mse2)\n",
    "print(lin_rmse2)"
   ]
  },
  {
   "cell_type": "code",
   "execution_count": 92,
   "id": "6204d3df",
   "metadata": {},
   "outputs": [
    {
     "name": "stdout",
     "output_type": "stream",
     "text": [
      "0.8504018147750623 0.7800936978183916\n"
     ]
    }
   ],
   "source": [
    "# R squared value\n",
    "r2_lin_test2 = model_rf1.score(X_test1,y_test1)\n",
    "r2_lin_train2 = model_lin2.score(X_train1,y_train1)\n",
    "print(r2_lin_test2,r2_lin_train2)"
   ]
  },
  {
   "cell_type": "code",
   "execution_count": 93,
   "id": "ef8a914f",
   "metadata": {},
   "outputs": [],
   "source": [
    "# Random Forest with imputed model\n",
    "# Model Parameters\n",
    "rf2 = RandomForestRegressor(n_estimators = 100, max_features ='auto',\n",
    "                           max_depth = 100, min_samples_split = 10,min_samples_leaf = 4, random_state=1)"
   ]
  },
  {
   "cell_type": "code",
   "execution_count": 94,
   "id": "b0066005",
   "metadata": {},
   "outputs": [],
   "source": [
    "# Model \n",
    "model_rf2 = rf2.fit(X_train1,y_train1)"
   ]
  },
  {
   "cell_type": "code",
   "execution_count": 95,
   "id": "549ab3c5",
   "metadata": {},
   "outputs": [],
   "source": [
    "# Predicting model on test set\n",
    "cars_predictions_rf2 = rf2.predict(X_test1)"
   ]
  },
  {
   "cell_type": "code",
   "execution_count": 96,
   "id": "e41e5b35",
   "metadata": {},
   "outputs": [
    {
     "name": "stdout",
     "output_type": "stream",
     "text": [
      "0.19016020985430382 0.4360736289370223\n"
     ]
    }
   ],
   "source": [
    "# Computing MSE and RMSE\n",
    "rf_mse2 = mean_squared_error(y_test1, cars_predictions_rf2)\n",
    "rf_rmse2 = np.sqrt(rf_mse2)\n",
    "print(rf_mse2,rf_rmse2)"
   ]
  },
  {
   "cell_type": "code",
   "execution_count": 97,
   "id": "74f23ba1",
   "metadata": {},
   "outputs": [
    {
     "name": "stdout",
     "output_type": "stream",
     "text": [
      "0.8504018147750623 0.9202494705146291\n"
     ]
    }
   ],
   "source": [
    "# R squared value\n",
    "r2_rf_test2 = model_rf2.score(X_test1,y_test1)\n",
    "r2_rf_train2 = model_rf2.score(X_train1,y_train1)\n",
    "print(r2_rf_test2,r2_rf_train2)"
   ]
  },
  {
   "cell_type": "markdown",
   "id": "1abe55f6",
   "metadata": {},
   "source": [
    "R squared value for the random forest regression model after imputing comes out to be 0.85 for the test set and it's 0.92 for train set. This is a good R-squared model compared to the LR model   "
   ]
  },
  {
   "cell_type": "code",
   "execution_count": 98,
   "id": "ca9f2bf6",
   "metadata": {},
   "outputs": [],
   "source": [
    "# Final Output :"
   ]
  },
  {
   "cell_type": "code",
   "execution_count": 100,
   "id": "f75ae00f",
   "metadata": {},
   "outputs": [
    {
     "name": "stdout",
     "output_type": "stream",
     "text": [
      "Metrics for models built from data where missing values are ommited\n",
      "R-squared value for the train from Linear Regression 0.7800936978183916\n",
      "R-squared value for the test from Linear Regression 0.7658615091649247\n",
      "R-squared value for the train from Random Forest 0.9202494705146291\n",
      "R-squared value for the test from Random Forest 0.8504018147750623\n",
      "Base RMSE of model built frome data where missing values where omitted= 1.1274483657478247\n",
      "RMSE value for test from Linear Regression 0.5455481266513836\n",
      "RMSE value for test from Random Forest 0.4360736289370223\n",
      "\n",
      "\n",
      "\n",
      "Metrics for models built from data where missing values are imputed\n",
      "R-squared value for the train from Linear Regression 0.7800936978183916\n",
      "R-squared value for the test from Linear Regression 0.8504018147750623\n",
      "R-squared value for the train from Random Forest 0.9202494705146291\n",
      "R-squared value for the test from Random Forest 0.8504018147750623\n",
      "Base RMSE of model built frome data where missing values where imputed= 1.1274483657478247\n",
      "RMSE value for test from Linear Regression 0.5455481266513836\n",
      "RMSE value for test from Random Forest 0.4360736289370223\n"
     ]
    }
   ],
   "source": [
    "print(\"Metrics for models built from data where missing values are ommited\")\n",
    "print(\"R-squared value for the train from Linear Regression %s\"% r2_lin_train1)\n",
    "print(\"R-squared value for the test from Linear Regression %s\"% r2_lin_test1)\n",
    "\n",
    "print(\"R-squared value for the train from Random Forest %s\"% r2_rf_train1)\n",
    "print(\"R-squared value for the test from Random Forest %s\"% r2_rf_test1)\n",
    "\n",
    "print(\"Base RMSE of model built frome data where missing values where omitted= %s\"% base_root_mean_square_error)\n",
    "print(\"RMSE value for test from Linear Regression %s\"% lin_rmse1)\n",
    "print(\"RMSE value for test from Random Forest %s\"% rf_rmse1)\n",
    "\n",
    "print(\"\\n\\n\")\n",
    "\n",
    "print(\"Metrics for models built from data where missing values are imputed\")\n",
    "print(\"R-squared value for the train from Linear Regression %s\"% r2_lin_train2)\n",
    "print(\"R-squared value for the test from Linear Regression %s\"% r2_lin_test2)\n",
    "\n",
    "print(\"R-squared value for the train from Random Forest %s\"% r2_rf_train2)\n",
    "print(\"R-squared value for the test from Random Forest %s\"% r2_rf_test2)\n",
    "\n",
    "print(\"Base RMSE of model built frome data where missing values where imputed= %s\"% base_root_mean_square_error1)\n",
    "print(\"RMSE value for test from Linear Regression %s\"% lin_rmse2)\n",
    "print(\"RMSE value for test from Random Forest %s\"% rf_rmse2)"
   ]
  }
 ],
 "metadata": {
  "kernelspec": {
   "display_name": "Python 3 (ipykernel)",
   "language": "python",
   "name": "python3"
  },
  "language_info": {
   "codemirror_mode": {
    "name": "ipython",
    "version": 3
   },
   "file_extension": ".py",
   "mimetype": "text/x-python",
   "name": "python",
   "nbconvert_exporter": "python",
   "pygments_lexer": "ipython3",
   "version": "3.9.7"
  }
 },
 "nbformat": 4,
 "nbformat_minor": 5
}
